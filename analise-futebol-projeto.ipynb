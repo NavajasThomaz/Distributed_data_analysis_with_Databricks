{
 "cells": [
  {
   "cell_type": "markdown",
   "metadata": {
    "application/vnd.databricks.v1+cell": {
     "cellMetadata": {},
     "inputWidgets": {},
     "nuid": "eb15074f-0098-45ee-ab49-103423ea5ae3",
     "showTitle": false,
     "tableResultSettingsMap": {},
     "title": ""
    }
   },
   "source": [
    "# Análise de Dados: Resultados Históricos do Futebol Internacional\n",
    "\n",
    "**Autor:** Thomaz Colalillo Navajas 364869\n",
    "\n",
    "**Disciplina:** Distributed Data Processing & Storage\n",
    "\n",
    "---\n",
    "\n",
    "Este notebook realiza uma análise exploratória sobre um dataset de resultados de partidas de futebol entre seleções, utilizando PySpark no ambiente Databricks.\n"
   ]
  },
  {
   "cell_type": "markdown",
   "metadata": {
    "application/vnd.databricks.v1+cell": {
     "cellMetadata": {},
     "inputWidgets": {},
     "nuid": "7b1748a2-ac90-4ffb-aa64-c8bdf17a2fec",
     "showTitle": false,
     "tableResultSettingsMap": {},
     "title": ""
    }
   },
   "source": [
    "## Etapa 1: Configuração e Carregamento dos Dados\n",
    "\n",
    "Nesta primeira etapa, realizamos as seguintes ações:\n",
    "1.  **Importamos as bibliotecas** necessárias para a análise (`requests`, `pyspark.sql.functions`, etc.).\n",
    "2.  **Baixamos o arquivo CSV** diretamente de um repositório público no GitHub. Isso garante que o código seja reprodutível sem a necessidade de uploads manuais.\n",
    "3.  **Carregamos os dados** em um DataFrame Spark, utilizando a biblioteca Pandas como uma ponte para facilitar a leitura.\n",
    "4.  **Limpamos e renomeamos as colunas** para nomes mais intuitivos em português e garantimos que os tipos de dados (especialmente os placares) estejam corretos para cálculos.\n",
    "5.  **Armazenamos o DataFrame em cache** (`.cache()`) para otimizar o desempenho das consultas que serão feitas a seguir."
   ]
  },
  {
   "cell_type": "code",
   "execution_count": 0,
   "metadata": {
    "application/vnd.databricks.v1+cell": {
     "cellMetadata": {
      "byteLimit": 2048000,
      "rowLimit": 10000
     },
     "inputWidgets": {},
     "nuid": "63166a57-85cf-424c-a226-87063c05e6c0",
     "showTitle": false,
     "tableResultSettingsMap": {},
     "title": ""
    }
   },
   "outputs": [
    {
     "output_type": "stream",
     "name": "stdout",
     "output_type": "stream",
     "text": [
      "Arquivo CSV baixado com sucesso do GitHub!\n\nSchema do DataFrame após limpeza:\nroot\n |-- data: string (nullable = true)\n |-- time_mandante: string (nullable = true)\n |-- time_visitante: string (nullable = true)\n |-- placar_mandante: integer (nullable = true)\n |-- placar_visitante: integer (nullable = true)\n |-- torneio: string (nullable = true)\n |-- cidade: string (nullable = true)\n |-- pais: string (nullable = true)\n |-- campo_neutro: boolean (nullable = true)\n\n"
     ]
    }
   ],
   "source": [
    "# Importando as funções e bibliotecas necessárias\n",
    "import requests\n",
    "from io import StringIO\n",
    "import pandas as pd\n",
    "from pyspark.sql.functions import col, sum, abs, desc\n",
    "\n",
    "url_raw_csv = \"https://raw.githubusercontent.com/NavajasThomaz/Distributed_data_analysis_with_Databricks/refs/heads/main/results.csv\" \n",
    "\n",
    "# Baixando o conteúdo do arquivo\n",
    "try:\n",
    "  response = requests.get(url_raw_csv)\n",
    "  response.raise_for_status()\n",
    "  csv_data_string = response.text\n",
    "  print(\"Arquivo CSV baixado com sucesso do GitHub!\")\n",
    "except requests.exceptions.RequestException as e:\n",
    "  print(f\"Erro ao baixar o arquivo: {e}\")\n",
    "  dbutils.notebook.exit(\"Falha ao carregar os dados. Verifique a URL.\")\n",
    "\n",
    "# Usando Pandas como ponte para ler a string e criar um DataFrame Spark\n",
    "csv_file_like_object = StringIO(csv_data_string)\n",
    "pandas_df = pd.read_csv(csv_file_like_object)\n",
    "df_original = spark.createDataFrame(pandas_df)\n",
    "\n",
    "# Limpando e renomeando as colunas para facilitar a análise\n",
    "df = df_original.withColumnRenamed(\"date\", \"data\") \\\n",
    "                .withColumnRenamed(\"home_teamName\", \"time_mandante\") \\\n",
    "                .withColumnRenamed(\"away_teamName\", \"time_visitante\") \\\n",
    "                .withColumnRenamed(\"home_scoreHome\", \"placar_mandante\") \\\n",
    "                .withColumnRenamed(\"away_scoreAway\", \"placar_visitante\") \\\n",
    "                .withColumnRenamed(\"tournamentName\", \"torneio\") \\\n",
    "                .withColumnRenamed(\"cityCity\", \"cidade\") \\\n",
    "                .withColumnRenamed(\"countryCountry\", \"pais\") \\\n",
    "                .withColumnRenamed(\"neutralTRUE\", \"campo_neutro\")\n",
    "\n",
    "# Garantindo que os placares são do tipo inteiro para cálculos\n",
    "df = df.withColumn(\"placar_mandante\", col(\"placar_mandante\").cast(\"integer\"))\n",
    "df = df.withColumn(\"placar_visitante\", col(\"placar_visitante\").cast(\"integer\"))\n",
    "\n",
    "print(\"\\nSchema do DataFrame após limpeza:\")\n",
    "df.printSchema()"
   ]
  },
  {
   "cell_type": "markdown",
   "metadata": {
    "application/vnd.databricks.v1+cell": {
     "cellMetadata": {},
     "inputWidgets": {},
     "nuid": "0f6eba1d-25a9-4e69-b9c9-661601e035e6",
     "showTitle": false,
     "tableResultSettingsMap": {},
     "title": ""
    }
   },
   "source": [
    "## Etapa 2: Análise Exploratória dos Dados\n",
    "\n",
    "Agora, vamos responder às perguntas solicitadas para extrair insights do dataset."
   ]
  },
  {
   "cell_type": "markdown",
   "metadata": {
    "application/vnd.databricks.v1+cell": {
     "cellMetadata": {},
     "inputWidgets": {},
     "nuid": "accfe542-74d9-4877-8af1-c2fd7156ef2d",
     "showTitle": false,
     "tableResultSettingsMap": {},
     "title": ""
    }
   },
   "source": [
    "### 1 - Quantos registros existem na base?"
   ]
  },
  {
   "cell_type": "code",
   "execution_count": 0,
   "metadata": {
    "application/vnd.databricks.v1+cell": {
     "cellMetadata": {
      "byteLimit": 2048000,
      "rowLimit": 10000
     },
     "inputWidgets": {},
     "nuid": "247df1fd-c231-444e-a539-16864ebd4dd8",
     "showTitle": false,
     "tableResultSettingsMap": {},
     "title": ""
    }
   },
   "outputs": [
    {
     "output_type": "stream",
     "name": "stdout",
     "output_type": "stream",
     "text": [
      "Resposta: Existem 40839 registros (partidas) na base de dados.\n"
     ]
    }
   ],
   "source": [
    "total_registros = df.count()\n",
    "print(f\"Resposta: Existem {total_registros} registros (partidas) na base de dados.\")"
   ]
  },
  {
   "cell_type": "markdown",
   "metadata": {
    "application/vnd.databricks.v1+cell": {
     "cellMetadata": {},
     "inputWidgets": {},
     "nuid": "cfadc44b-392d-4d4f-b723-5352af9dd395",
     "showTitle": false,
     "tableResultSettingsMap": {},
     "title": ""
    }
   },
   "source": [
    "### 2 - Quantas equipes únicas mandantes existem na base?"
   ]
  },
  {
   "cell_type": "code",
   "execution_count": 0,
   "metadata": {
    "application/vnd.databricks.v1+cell": {
     "cellMetadata": {
      "byteLimit": 2048000,
      "rowLimit": 10000
     },
     "inputWidgets": {},
     "nuid": "4d17bcb4-6151-4158-977b-9a66a4f69e08",
     "showTitle": false,
     "tableResultSettingsMap": {},
     "title": ""
    }
   },
   "outputs": [
    {
     "output_type": "stream",
     "name": "stdout",
     "output_type": "stream",
     "text": [
      "Resposta: Existem 309 equipes únicas que jogaram como mandantes.\n"
     ]
    }
   ],
   "source": [
    "equipes_mandantes_unicas = df.select(\"time_mandante\").distinct().count()\n",
    "print(f\"Resposta: Existem {equipes_mandantes_unicas} equipes únicas que jogaram como mandantes.\")"
   ]
  },
  {
   "cell_type": "markdown",
   "metadata": {
    "application/vnd.databricks.v1+cell": {
     "cellMetadata": {},
     "inputWidgets": {},
     "nuid": "8dede0ca-c616-48e9-b6a9-5f2e8c6152e8",
     "showTitle": false,
     "tableResultSettingsMap": {},
     "title": ""
    }
   },
   "source": [
    "### 3 - Quantas vezes as equipes mandantes saíram vitoriosas?"
   ]
  },
  {
   "cell_type": "code",
   "execution_count": 0,
   "metadata": {
    "application/vnd.databricks.v1+cell": {
     "cellMetadata": {
      "byteLimit": 2048000,
      "rowLimit": 10000
     },
     "inputWidgets": {},
     "nuid": "1e1a0019-16fc-4788-9f1a-e1d5357d6c0f",
     "showTitle": false,
     "tableResultSettingsMap": {},
     "title": ""
    }
   },
   "outputs": [
    {
     "output_type": "stream",
     "name": "stdout",
     "output_type": "stream",
     "text": [
      "Resposta: As equipes mandantes venceram 19864 vezes.\n"
     ]
    }
   ],
   "source": [
    "vitorias_mandantes = df.filter(col(\"placar_mandante\") > col(\"placar_visitante\")).count()\n",
    "print(f\"Resposta: As equipes mandantes venceram {vitorias_mandantes} vezes.\")"
   ]
  },
  {
   "cell_type": "markdown",
   "metadata": {
    "application/vnd.databricks.v1+cell": {
     "cellMetadata": {},
     "inputWidgets": {},
     "nuid": "8431d5da-aa00-4e43-bdb5-8246ee1d3f39",
     "showTitle": false,
     "tableResultSettingsMap": {},
     "title": ""
    }
   },
   "source": [
    "### 4 - Quantas vezes as equipes visitantes saíram vitoriosas?"
   ]
  },
  {
   "cell_type": "code",
   "execution_count": 0,
   "metadata": {
    "application/vnd.databricks.v1+cell": {
     "cellMetadata": {
      "byteLimit": 2048000,
      "rowLimit": 10000
     },
     "inputWidgets": {},
     "nuid": "cb10f15f-11eb-4140-86d2-294ec3d54d68",
     "showTitle": false,
     "tableResultSettingsMap": {},
     "title": ""
    }
   },
   "outputs": [
    {
     "output_type": "stream",
     "name": "stdout",
     "output_type": "stream",
     "text": [
      "Resposta: As equipes visitantes venceram 11544 vezes.\n"
     ]
    }
   ],
   "source": [
    "vitorias_visitantes = df.filter(col(\"placar_visitante\") > col(\"placar_mandante\")).count()\n",
    "print(f\"Resposta: As equipes visitantes venceram {vitorias_visitantes} vezes.\")"
   ]
  },
  {
   "cell_type": "markdown",
   "metadata": {
    "application/vnd.databricks.v1+cell": {
     "cellMetadata": {},
     "inputWidgets": {},
     "nuid": "e38972c6-4cd8-4e7f-b2b8-0835741bc6f9",
     "showTitle": false,
     "tableResultSettingsMap": {},
     "title": ""
    }
   },
   "source": [
    "### 5 - Quantas partidas resultaram em empate?"
   ]
  },
  {
   "cell_type": "code",
   "execution_count": 0,
   "metadata": {
    "application/vnd.databricks.v1+cell": {
     "cellMetadata": {
      "byteLimit": 2048000,
      "rowLimit": 10000
     },
     "inputWidgets": {},
     "nuid": "f3d1e024-1ea0-40fc-934f-42806b2e337b",
     "showTitle": false,
     "tableResultSettingsMap": {},
     "title": ""
    }
   },
   "outputs": [
    {
     "output_type": "stream",
     "name": "stdout",
     "output_type": "stream",
     "text": [
      "Resposta: 9431 partidas terminaram em empate.\n"
     ]
    }
   ],
   "source": [
    "empates = df.filter(col(\"placar_mandante\") == col(\"placar_visitante\")).count()\n",
    "print(f\"Resposta: {empates} partidas terminaram em empate.\")"
   ]
  },
  {
   "cell_type": "markdown",
   "metadata": {
    "application/vnd.databricks.v1+cell": {
     "cellMetadata": {},
     "inputWidgets": {},
     "nuid": "a0be64a6-861f-4530-aaba-916564022fed",
     "showTitle": false,
     "tableResultSettingsMap": {},
     "title": ""
    }
   },
   "source": [
    "### 6 - Quantas partidas foram realizadas em cada país?"
   ]
  },
  {
   "cell_type": "code",
   "execution_count": 0,
   "metadata": {
    "application/vnd.databricks.v1+cell": {
     "cellMetadata": {
      "byteLimit": 2048000,
      "rowLimit": 10000
     },
     "inputWidgets": {},
     "nuid": "2654082f-9a96-44f1-91bf-84edf676f021",
     "showTitle": false,
     "tableResultSettingsMap": {},
     "title": ""
    }
   },
   "outputs": [
    {
     "output_type": "stream",
     "name": "stdout",
     "output_type": "stream",
     "text": [
      "Resposta: A tabela abaixo mostra a contagem de partidas por país, em ordem decrescente.\n+--------------------+-----+\n|                pais|count|\n+--------------------+-----+\n|       United States| 1144|\n|              France|  801|\n|             England|  687|\n|            Malaysia|  644|\n|              Sweden|  637|\n|             Germany|  581|\n|              Brazil|  529|\n|               Spain|  517|\n|            Thailand|  483|\n|               Italy|  480|\n|         Switzerland|  477|\n|             Austria|  475|\n|United Arab Emirates|  472|\n|        South Africa|  470|\n|               Qatar|  467|\n|         South Korea|  453|\n|           Argentina|  449|\n|             Hungary|  431|\n|               Chile|  405|\n|             Belgium|  396|\n+--------------------+-----+\nonly showing top 20 rows\n"
     ]
    }
   ],
   "source": [
    "partidas_por_pais = df.groupBy(\"pais\").count().orderBy(desc(\"count\"))\n",
    "print(\"Resposta: A tabela abaixo mostra a contagem de partidas por país, em ordem decrescente.\")\n",
    "partidas_por_pais.show()"
   ]
  },
  {
   "cell_type": "markdown",
   "metadata": {
    "application/vnd.databricks.v1+cell": {
     "cellMetadata": {},
     "inputWidgets": {},
     "nuid": "c64ff560-554e-496d-9261-9a2353bb720a",
     "showTitle": false,
     "tableResultSettingsMap": {},
     "title": ""
    }
   },
   "source": [
    "### 7 - Qual país teve mais partidas?"
   ]
  },
  {
   "cell_type": "code",
   "execution_count": 0,
   "metadata": {
    "application/vnd.databricks.v1+cell": {
     "cellMetadata": {
      "byteLimit": 2048000,
      "rowLimit": 10000
     },
     "inputWidgets": {},
     "nuid": "1ff69146-bc62-4e8c-99da-b77b4cc19e09",
     "showTitle": false,
     "tableResultSettingsMap": {},
     "title": ""
    }
   },
   "outputs": [
    {
     "output_type": "stream",
     "name": "stdout",
     "output_type": "stream",
     "text": [
      "Resposta: O país que sediou mais partidas foi United States, com um total de 1144 jogos.\n"
     ]
    }
   ],
   "source": [
    "# Reutilizamos o resultado da célula anterior e pegamos o primeiro registro\n",
    "pais_com_mais_partidas = partidas_por_pais.first()\n",
    "nome_pais = pais_com_mais_partidas[\"pais\"]\n",
    "num_partidas = pais_com_mais_partidas[\"count\"]\n",
    "print(f\"Resposta: O país que sediou mais partidas foi {nome_pais}, com um total de {num_partidas} jogos.\")"
   ]
  },
  {
   "cell_type": "markdown",
   "metadata": {
    "application/vnd.databricks.v1+cell": {
     "cellMetadata": {},
     "inputWidgets": {},
     "nuid": "98f5a924-376b-4514-b9ab-73b9c8de4bdf",
     "showTitle": false,
     "tableResultSettingsMap": {},
     "title": ""
    }
   },
   "source": [
    "### 8 - Qual a partida com maior número de gols?"
   ]
  },
  {
   "cell_type": "code",
   "execution_count": 0,
   "metadata": {
    "application/vnd.databricks.v1+cell": {
     "cellMetadata": {
      "byteLimit": 2048000,
      "rowLimit": 10000
     },
     "inputWidgets": {},
     "nuid": "6257deaf-906a-4720-9806-65c9af993f8f",
     "showTitle": false,
     "tableResultSettingsMap": {},
     "title": ""
    }
   },
   "outputs": [
    {
     "output_type": "stream",
     "name": "stdout",
     "output_type": "stream",
     "text": [
      "Resposta: A partida com maior número de gols (31 gols) foi Australia 31 x 0 American Samoa, em 2001-04-11.\n"
     ]
    }
   ],
   "source": [
    "partida_mais_gols = df.withColumn(\"total_gols\", col(\"placar_mandante\") + col(\"placar_visitante\")) \\\n",
    "                      .orderBy(desc(\"total_gols\")) \\\n",
    "                      .first()\n",
    "\n",
    "mandante = partida_mais_gols[\"time_mandante\"]\n",
    "visitante = partida_mais_gols[\"time_visitante\"]\n",
    "placar_m = partida_mais_gols[\"placar_mandante\"]\n",
    "placar_v = partida_mais_gols[\"placar_visitante\"]\n",
    "total_gols = partida_mais_gols[\"total_gols\"]\n",
    "data = partida_mais_gols[\"data\"]\n",
    "\n",
    "print(f\"Resposta: A partida com maior número de gols ({total_gols} gols) foi {mandante} {placar_m} x {placar_v} {visitante}, em {data}.\")"
   ]
  },
  {
   "cell_type": "markdown",
   "metadata": {
    "application/vnd.databricks.v1+cell": {
     "cellMetadata": {},
     "inputWidgets": {},
     "nuid": "086210ff-7334-4488-b31d-f600f1d6cd75",
     "showTitle": false,
     "tableResultSettingsMap": {},
     "title": ""
    }
   },
   "source": [
    "### 9 - Qual a maior goleada?\n",
    "(Definida pela maior diferença de gols entre o vencedor e o perdedor)"
   ]
  },
  {
   "cell_type": "code",
   "execution_count": 0,
   "metadata": {
    "application/vnd.databricks.v1+cell": {
     "cellMetadata": {
      "byteLimit": 2048000,
      "rowLimit": 10000
     },
     "inputWidgets": {},
     "nuid": "2c086812-7229-49ba-a5b6-bbbe266e0078",
     "showTitle": false,
     "tableResultSettingsMap": {},
     "title": ""
    }
   },
   "outputs": [
    {
     "output_type": "stream",
     "name": "stdout",
     "output_type": "stream",
     "text": [
      "Resposta: A maior goleada foi de 31 gols de diferença, na partida Australia 31 x 0 American Samoa, em 2001-04-11.\n"
     ]
    }
   ],
   "source": [
    "maior_goleada = df.withColumn(\"diferenca_gols\", abs(col(\"placar_mandante\") - col(\"placar_visitante\"))) \\\n",
    "                   .orderBy(desc(\"diferenca_gols\")) \\\n",
    "                   .first()\n",
    "\n",
    "mandante = maior_goleada[\"time_mandante\"]\n",
    "visitante = maior_goleada[\"time_visitante\"]\n",
    "placar_m = maior_goleada[\"placar_mandante\"]\n",
    "placar_v = maior_goleada[\"placar_visitante\"]\n",
    "diferenca = maior_goleada[\"diferenca_gols\"]\n",
    "data = maior_goleada[\"data\"]\n",
    "\n",
    "print(f\"Resposta: A maior goleada foi de {diferenca} gols de diferença, na partida {mandante} {placar_m} x {placar_v} {visitante}, em {data}.\")"
   ]
  },
  {
   "cell_type": "markdown",
   "metadata": {
    "application/vnd.databricks.v1+cell": {
     "cellMetadata": {},
     "inputWidgets": {},
     "nuid": "731c8e54-8059-4b98-904e-23a377e6731a",
     "showTitle": false,
     "tableResultSettingsMap": {},
     "title": ""
    }
   },
   "source": [
    "### 10 - Quantos jogos ocorreram no Brasil?"
   ]
  },
  {
   "cell_type": "code",
   "execution_count": 0,
   "metadata": {
    "application/vnd.databricks.v1+cell": {
     "cellMetadata": {
      "byteLimit": 2048000,
      "rowLimit": 10000
     },
     "inputWidgets": {},
     "nuid": "cbbcbce9-5348-4997-9c45-793e39e020a6",
     "showTitle": false,
     "tableResultSettingsMap": {},
     "title": ""
    }
   },
   "outputs": [
    {
     "output_type": "stream",
     "name": "stdout",
     "output_type": "stream",
     "text": [
      "Resposta: Ocorreram 529 jogos no Brasil.\n"
     ]
    }
   ],
   "source": [
    "jogos_no_brasil = df.filter(col(\"pais\") == \"Brazil\").count()\n",
    "print(f\"Resposta: Ocorreram {jogos_no_brasil} jogos no Brasil.\")"
   ]
  }
 ],
 "metadata": {
  "application/vnd.databricks.v1+notebook": {
   "computePreferences": null,
   "dashboards": [],
   "environmentMetadata": {
    "base_environment": "",
    "environment_version": "2"
   },
   "inputWidgetPreferences": null,
   "language": "python",
   "notebookMetadata": {
    "pythonIndentUnit": 4
   },
   "notebookName": "analise-futebol-projeto",
   "widgets": {}
  },
  "language_info": {
   "name": "python"
  }
 },
 "nbformat": 4,
 "nbformat_minor": 0
}